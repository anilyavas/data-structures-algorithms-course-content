{
 "cells": [
  {
   "cell_type": "code",
   "execution_count": 1,
   "id": "7006cb45",
   "metadata": {},
   "outputs": [
    {
     "data": {
      "text/plain": [
       "'\\nDeque()\\n\\naddRight()\\naddLeft()\\nremoveRight()\\nremoveLeft()\\nisEmpty()\\nsize()\\n\\n'"
      ]
     },
     "execution_count": 1,
     "metadata": {},
     "output_type": "execute_result"
    }
   ],
   "source": [
    "'''\n",
    "Deque()\n",
    "\n",
    "addRight()\n",
    "addLeft()\n",
    "removeRight()\n",
    "removeLeft()\n",
    "isEmpty()\n",
    "size()\n",
    "\n",
    "'''"
   ]
  },
  {
   "cell_type": "code",
   "execution_count": 5,
   "id": "27a36b38",
   "metadata": {},
   "outputs": [],
   "source": [
    "class Deque():\n",
    "    \n",
    "    def __init__(self):\n",
    "        self.elements = []\n",
    "        \n",
    "    def isEmpty(self):\n",
    "        self.elements == []\n",
    "        \n",
    "    def addLeft(self,element):\n",
    "        self.elements.insert(0,element)\n",
    "        \n",
    "    def addRight(self,element):\n",
    "        self.elements.append(element)\n",
    "        \n",
    "    def removeLeft(self):\n",
    "        return self.elements.pop(0)\n",
    "    \n",
    "    def removeRight(self):\n",
    "        return self.elements.pop()\n",
    "    \n",
    "    def size(self):\n",
    "        return len(self.elements)\n",
    "        "
   ]
  },
  {
   "cell_type": "code",
   "execution_count": 6,
   "id": "389b5866",
   "metadata": {},
   "outputs": [],
   "source": [
    "myDeque = Deque()"
   ]
  },
  {
   "cell_type": "code",
   "execution_count": 7,
   "id": "0018b686",
   "metadata": {},
   "outputs": [],
   "source": [
    "myDeque.addRight(10)"
   ]
  },
  {
   "cell_type": "code",
   "execution_count": 8,
   "id": "80f40734",
   "metadata": {},
   "outputs": [],
   "source": [
    "myDeque.addRight(20)"
   ]
  },
  {
   "cell_type": "code",
   "execution_count": 9,
   "id": "46b9f35a",
   "metadata": {},
   "outputs": [],
   "source": [
    "#[10,20]"
   ]
  },
  {
   "cell_type": "code",
   "execution_count": 10,
   "id": "33991d81",
   "metadata": {},
   "outputs": [],
   "source": [
    "myDeque.addLeft(30)"
   ]
  },
  {
   "cell_type": "code",
   "execution_count": 11,
   "id": "93e751c9",
   "metadata": {},
   "outputs": [],
   "source": [
    "#[30,10,20]"
   ]
  },
  {
   "cell_type": "code",
   "execution_count": 12,
   "id": "377dcc2a",
   "metadata": {},
   "outputs": [],
   "source": [
    "myDeque.addLeft(40)"
   ]
  },
  {
   "cell_type": "code",
   "execution_count": 13,
   "id": "08c358dd",
   "metadata": {},
   "outputs": [],
   "source": [
    "#[40,30,10,20]"
   ]
  },
  {
   "cell_type": "code",
   "execution_count": 14,
   "id": "6949dedb",
   "metadata": {},
   "outputs": [],
   "source": [
    "myDeque.addRight(50)"
   ]
  },
  {
   "cell_type": "code",
   "execution_count": 15,
   "id": "938f789b",
   "metadata": {},
   "outputs": [],
   "source": [
    "#[40,30,10,20,50]"
   ]
  },
  {
   "cell_type": "code",
   "execution_count": 16,
   "id": "f20fa858",
   "metadata": {},
   "outputs": [
    {
     "data": {
      "text/plain": [
       "5"
      ]
     },
     "execution_count": 16,
     "metadata": {},
     "output_type": "execute_result"
    }
   ],
   "source": [
    "myDeque.size()"
   ]
  },
  {
   "cell_type": "code",
   "execution_count": 17,
   "id": "d90bd285",
   "metadata": {},
   "outputs": [
    {
     "data": {
      "text/plain": [
       "40"
      ]
     },
     "execution_count": 17,
     "metadata": {},
     "output_type": "execute_result"
    }
   ],
   "source": [
    "myDeque.removeLeft()"
   ]
  },
  {
   "cell_type": "code",
   "execution_count": 18,
   "id": "c6a2397d",
   "metadata": {},
   "outputs": [
    {
     "data": {
      "text/plain": [
       "30"
      ]
     },
     "execution_count": 18,
     "metadata": {},
     "output_type": "execute_result"
    }
   ],
   "source": [
    "myDeque.removeLeft()"
   ]
  },
  {
   "cell_type": "code",
   "execution_count": 19,
   "id": "716589c0",
   "metadata": {},
   "outputs": [
    {
     "data": {
      "text/plain": [
       "50"
      ]
     },
     "execution_count": 19,
     "metadata": {},
     "output_type": "execute_result"
    }
   ],
   "source": [
    "myDeque.removeRight()"
   ]
  },
  {
   "cell_type": "code",
   "execution_count": 20,
   "id": "0fc717e5",
   "metadata": {},
   "outputs": [
    {
     "data": {
      "text/plain": [
       "2"
      ]
     },
     "execution_count": 20,
     "metadata": {},
     "output_type": "execute_result"
    }
   ],
   "source": [
    "myDeque.size()"
   ]
  },
  {
   "cell_type": "code",
   "execution_count": null,
   "id": "6800e16c",
   "metadata": {},
   "outputs": [],
   "source": []
  }
 ],
 "metadata": {
  "kernelspec": {
   "display_name": "Python 3 (ipykernel)",
   "language": "python",
   "name": "python3"
  },
  "language_info": {
   "codemirror_mode": {
    "name": "ipython",
    "version": 3
   },
   "file_extension": ".py",
   "mimetype": "text/x-python",
   "name": "python",
   "nbconvert_exporter": "python",
   "pygments_lexer": "ipython3",
   "version": "3.11.7"
  }
 },
 "nbformat": 4,
 "nbformat_minor": 5
}
