{
 "cells": [
  {
   "cell_type": "code",
   "execution_count": 1,
   "id": "9fc9904e",
   "metadata": {},
   "outputs": [],
   "source": [
    "# Array, List, Stack, Queue, Deque"
   ]
  },
  {
   "cell_type": "code",
   "execution_count": 1,
   "id": "fa398941",
   "metadata": {},
   "outputs": [],
   "source": [
    "#list\n",
    "myList = [1,2,3,4,5]"
   ]
  },
  {
   "cell_type": "code",
   "execution_count": 2,
   "id": "38338859",
   "metadata": {},
   "outputs": [
    {
     "data": {
      "text/plain": [
       "list"
      ]
     },
     "execution_count": 2,
     "metadata": {},
     "output_type": "execute_result"
    }
   ],
   "source": [
    "type(myList)"
   ]
  },
  {
   "cell_type": "code",
   "execution_count": 3,
   "id": "4c0b244b",
   "metadata": {},
   "outputs": [],
   "source": [
    "myList = []"
   ]
  },
  {
   "cell_type": "code",
   "execution_count": 4,
   "id": "1feac2ee",
   "metadata": {},
   "outputs": [],
   "source": [
    "myList.append(1)"
   ]
  },
  {
   "cell_type": "code",
   "execution_count": 5,
   "id": "4ab62b9a",
   "metadata": {},
   "outputs": [],
   "source": [
    "import array as arr"
   ]
  },
  {
   "cell_type": "code",
   "execution_count": 6,
   "id": "56aa9191",
   "metadata": {},
   "outputs": [],
   "source": [
    "myArray = arr.array(\"i\",[3,6,9,12])"
   ]
  },
  {
   "cell_type": "code",
   "execution_count": 7,
   "id": "99ef3487",
   "metadata": {},
   "outputs": [],
   "source": [
    "myArray.append(15)"
   ]
  },
  {
   "cell_type": "code",
   "execution_count": 8,
   "id": "e762be29",
   "metadata": {},
   "outputs": [
    {
     "data": {
      "text/plain": [
       "array('i', [3, 6, 9, 12, 15])"
      ]
     },
     "execution_count": 8,
     "metadata": {},
     "output_type": "execute_result"
    }
   ],
   "source": [
    "myArray"
   ]
  },
  {
   "cell_type": "code",
   "execution_count": 9,
   "id": "6a7ac3d3",
   "metadata": {},
   "outputs": [],
   "source": [
    "myList = [1,2,3,4,5]"
   ]
  },
  {
   "cell_type": "code",
   "execution_count": 10,
   "id": "12d2c18f",
   "metadata": {},
   "outputs": [],
   "source": [
    "otherList = [6,7,8]"
   ]
  },
  {
   "cell_type": "code",
   "execution_count": 11,
   "id": "7f7fc21d",
   "metadata": {},
   "outputs": [],
   "source": [
    "myList.extend(otherList)"
   ]
  },
  {
   "cell_type": "code",
   "execution_count": 12,
   "id": "77383990",
   "metadata": {},
   "outputs": [
    {
     "data": {
      "text/plain": [
       "[1, 2, 3, 4, 5, 6, 7, 8]"
      ]
     },
     "execution_count": 12,
     "metadata": {},
     "output_type": "execute_result"
    }
   ],
   "source": [
    "myList"
   ]
  },
  {
   "cell_type": "code",
   "execution_count": 13,
   "id": "0bc5a223",
   "metadata": {},
   "outputs": [],
   "source": [
    "result = [0] * 8"
   ]
  },
  {
   "cell_type": "code",
   "execution_count": 14,
   "id": "e07a5767",
   "metadata": {},
   "outputs": [
    {
     "data": {
      "text/plain": [
       "[0, 0, 0, 0, 0, 0, 0, 0]"
      ]
     },
     "execution_count": 14,
     "metadata": {},
     "output_type": "execute_result"
    }
   ],
   "source": [
    "result"
   ]
  },
  {
   "cell_type": "code",
   "execution_count": 15,
   "id": "b131907f",
   "metadata": {},
   "outputs": [
    {
     "data": {
      "text/plain": [
       "list"
      ]
     },
     "execution_count": 15,
     "metadata": {},
     "output_type": "execute_result"
    }
   ],
   "source": [
    "type(result)"
   ]
  },
  {
   "cell_type": "code",
   "execution_count": 16,
   "id": "522ec4a6",
   "metadata": {},
   "outputs": [],
   "source": [
    "result[3] = 2"
   ]
  },
  {
   "cell_type": "code",
   "execution_count": 17,
   "id": "6732ef36",
   "metadata": {},
   "outputs": [
    {
     "data": {
      "text/plain": [
       "[0, 0, 0, 2, 0, 0, 0, 0]"
      ]
     },
     "execution_count": 17,
     "metadata": {},
     "output_type": "execute_result"
    }
   ],
   "source": [
    "result"
   ]
  },
  {
   "cell_type": "code",
   "execution_count": 18,
   "id": "c76acda5",
   "metadata": {},
   "outputs": [],
   "source": [
    "import sys"
   ]
  },
  {
   "cell_type": "code",
   "execution_count": 20,
   "id": "8bb91e10",
   "metadata": {},
   "outputs": [
    {
     "name": "stdout",
     "output_type": "stream",
     "text": [
      "Lenght: 0 Byte: 56\n",
      "Lenght: 1 Byte: 88\n",
      "Lenght: 2 Byte: 88\n",
      "Lenght: 3 Byte: 88\n",
      "Lenght: 4 Byte: 88\n",
      "Lenght: 5 Byte: 120\n",
      "Lenght: 6 Byte: 120\n",
      "Lenght: 7 Byte: 120\n",
      "Lenght: 8 Byte: 120\n",
      "Lenght: 9 Byte: 184\n",
      "Lenght: 10 Byte: 184\n",
      "Lenght: 11 Byte: 184\n",
      "Lenght: 12 Byte: 184\n",
      "Lenght: 13 Byte: 184\n",
      "Lenght: 14 Byte: 184\n",
      "Lenght: 15 Byte: 184\n",
      "Lenght: 16 Byte: 184\n",
      "Lenght: 17 Byte: 248\n",
      "Lenght: 18 Byte: 248\n",
      "Lenght: 19 Byte: 248\n",
      "Lenght: 20 Byte: 248\n",
      "Lenght: 21 Byte: 248\n",
      "Lenght: 22 Byte: 248\n",
      "Lenght: 23 Byte: 248\n",
      "Lenght: 24 Byte: 248\n",
      "Lenght: 25 Byte: 312\n",
      "Lenght: 26 Byte: 312\n",
      "Lenght: 27 Byte: 312\n",
      "Lenght: 28 Byte: 312\n",
      "Lenght: 29 Byte: 312\n"
     ]
    }
   ],
   "source": [
    "n = 30\n",
    "myDynamicArray = []\n",
    "\n",
    "for i in range(n):\n",
    "    \n",
    "    myLength = len(myDynamicArray)\n",
    "    myByte = sys.getsizeof(myDynamicArray)\n",
    "    print(f\"Lenght: {myLength} Byte: {myByte}\")\n",
    "    myDynamicArray.append(n)"
   ]
  },
  {
   "cell_type": "code",
   "execution_count": null,
   "id": "a27bc18c",
   "metadata": {},
   "outputs": [],
   "source": []
  }
 ],
 "metadata": {
  "kernelspec": {
   "display_name": "Python 3 (ipykernel)",
   "language": "python",
   "name": "python3"
  },
  "language_info": {
   "codemirror_mode": {
    "name": "ipython",
    "version": 3
   },
   "file_extension": ".py",
   "mimetype": "text/x-python",
   "name": "python",
   "nbconvert_exporter": "python",
   "pygments_lexer": "ipython3",
   "version": "3.11.7"
  }
 },
 "nbformat": 4,
 "nbformat_minor": 5
}
