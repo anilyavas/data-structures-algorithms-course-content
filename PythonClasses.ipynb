{
 "cells": [
  {
   "cell_type": "code",
   "execution_count": 50,
   "id": "fbe40680",
   "metadata": {},
   "outputs": [],
   "source": [
    "class Musician():\n",
    "    job = \"Musician\"\n",
    "    \n",
    "    def __init__(self,name,age,instrument):\n",
    "        self.name = name\n",
    "        self.age = age\n",
    "        self.instrument = instrument\n",
    "    def sing(self):\n",
    "        print(\"sing sing sing\")\n",
    "    def __len__(self):\n",
    "        return self.age\n",
    "    def __str__(self):\n",
    "        return self.name"
   ]
  },
  {
   "cell_type": "code",
   "execution_count": 51,
   "id": "458f681d",
   "metadata": {},
   "outputs": [],
   "source": [
    "james = Musician(\"James\",50,\"Guitar\") #instance"
   ]
  },
  {
   "cell_type": "code",
   "execution_count": 52,
   "id": "51f7ded0",
   "metadata": {},
   "outputs": [
    {
     "data": {
      "text/plain": [
       "50"
      ]
     },
     "execution_count": 52,
     "metadata": {},
     "output_type": "execute_result"
    }
   ],
   "source": [
    "james.age"
   ]
  },
  {
   "cell_type": "code",
   "execution_count": 53,
   "id": "961dec52",
   "metadata": {},
   "outputs": [
    {
     "data": {
      "text/plain": [
       "'Musician'"
      ]
     },
     "execution_count": 53,
     "metadata": {},
     "output_type": "execute_result"
    }
   ],
   "source": [
    "james.job"
   ]
  },
  {
   "cell_type": "code",
   "execution_count": 54,
   "id": "0003a3bd",
   "metadata": {},
   "outputs": [
    {
     "name": "stdout",
     "output_type": "stream",
     "text": [
      "sing sing sing\n"
     ]
    }
   ],
   "source": [
    "james.sing()"
   ]
  },
  {
   "cell_type": "code",
   "execution_count": 56,
   "id": "d38c2c0d",
   "metadata": {},
   "outputs": [
    {
     "data": {
      "text/plain": [
       "50"
      ]
     },
     "execution_count": 56,
     "metadata": {},
     "output_type": "execute_result"
    }
   ],
   "source": [
    "len(james)"
   ]
  },
  {
   "cell_type": "code",
   "execution_count": 57,
   "id": "f39e9b0d",
   "metadata": {},
   "outputs": [
    {
     "data": {
      "text/plain": [
       "'James'"
      ]
     },
     "execution_count": 57,
     "metadata": {},
     "output_type": "execute_result"
    }
   ],
   "source": [
    "str(james)"
   ]
  },
  {
   "cell_type": "code",
   "execution_count": 58,
   "id": "7d4c2afb",
   "metadata": {},
   "outputs": [],
   "source": [
    "#inheritance"
   ]
  },
  {
   "cell_type": "code",
   "execution_count": 59,
   "id": "0354055f",
   "metadata": {},
   "outputs": [],
   "source": [
    "class Class1():\n",
    "    \n",
    "    def __init__(self):\n",
    "        print(\"Class 1 created\")\n",
    "    \n",
    "    def method1(self):\n",
    "        print(\"method 1\")\n",
    "    \n",
    "    def method2(self):\n",
    "        print(\"method 2\")"
   ]
  },
  {
   "cell_type": "code",
   "execution_count": 60,
   "id": "8813bfca",
   "metadata": {},
   "outputs": [
    {
     "name": "stdout",
     "output_type": "stream",
     "text": [
      "Class 1 created\n"
     ]
    }
   ],
   "source": [
    "class1Instance = Class1()"
   ]
  },
  {
   "cell_type": "code",
   "execution_count": 62,
   "id": "6670217d",
   "metadata": {},
   "outputs": [
    {
     "name": "stdout",
     "output_type": "stream",
     "text": [
      "method 1\n"
     ]
    }
   ],
   "source": [
    "class1Instance.method1()"
   ]
  },
  {
   "cell_type": "code",
   "execution_count": 65,
   "id": "2081fbd1",
   "metadata": {},
   "outputs": [],
   "source": [
    "class Class2(Class1):\n",
    "    def __init__(self):\n",
    "        Class1.__init__(self)\n",
    "        print(\"Class2 created\")"
   ]
  },
  {
   "cell_type": "code",
   "execution_count": 66,
   "id": "0d96235d",
   "metadata": {},
   "outputs": [
    {
     "name": "stdout",
     "output_type": "stream",
     "text": [
      "Class 1 created\n",
      "Class2 created\n"
     ]
    }
   ],
   "source": [
    "class2Instance = Class2()"
   ]
  },
  {
   "cell_type": "code",
   "execution_count": 67,
   "id": "ebc51b5d",
   "metadata": {},
   "outputs": [
    {
     "name": "stdout",
     "output_type": "stream",
     "text": [
      "method 1\n"
     ]
    }
   ],
   "source": [
    "class2Instance.method1()"
   ]
  },
  {
   "cell_type": "code",
   "execution_count": 68,
   "id": "addc32ec",
   "metadata": {},
   "outputs": [],
   "source": [
    "#polymorphism"
   ]
  },
  {
   "cell_type": "code",
   "execution_count": 73,
   "id": "bc49989b",
   "metadata": {},
   "outputs": [],
   "source": [
    "class Apple():\n",
    "    \n",
    "    def __init__(self,name):\n",
    "        self.name = name\n",
    "        \n",
    "    def information(self):\n",
    "        return self.name + \" 100 calories\""
   ]
  },
  {
   "cell_type": "code",
   "execution_count": 74,
   "id": "714a4e70",
   "metadata": {},
   "outputs": [],
   "source": [
    "class Banana():\n",
    "    \n",
    "    def __init__(self,name):\n",
    "        self.name = name\n",
    "    \n",
    "    def information(self):\n",
    "        return self.name + \" 200 calories\"\n",
    "    "
   ]
  },
  {
   "cell_type": "code",
   "execution_count": 75,
   "id": "42db2251",
   "metadata": {},
   "outputs": [],
   "source": [
    "banana = Banana(\"banana\")"
   ]
  },
  {
   "cell_type": "code",
   "execution_count": 76,
   "id": "78787945",
   "metadata": {},
   "outputs": [],
   "source": [
    "apple = Apple(\"apple\")"
   ]
  },
  {
   "cell_type": "code",
   "execution_count": 77,
   "id": "e5f140f1",
   "metadata": {},
   "outputs": [],
   "source": [
    "fruitList = [banana,apple]"
   ]
  },
  {
   "cell_type": "code",
   "execution_count": 78,
   "id": "d4dc1375",
   "metadata": {},
   "outputs": [
    {
     "name": "stdout",
     "output_type": "stream",
     "text": [
      "banana 200 calories\n",
      "apple 100 calories\n"
     ]
    }
   ],
   "source": [
    "for fruit in fruitList:\n",
    "    print(fruit.information())"
   ]
  },
  {
   "cell_type": "code",
   "execution_count": 79,
   "id": "8eabf1d4",
   "metadata": {},
   "outputs": [],
   "source": [
    "#scope"
   ]
  },
  {
   "cell_type": "code",
   "execution_count": 80,
   "id": "5b44c9dc",
   "metadata": {},
   "outputs": [],
   "source": [
    "number = 10"
   ]
  },
  {
   "cell_type": "code",
   "execution_count": 81,
   "id": "b9c71421",
   "metadata": {},
   "outputs": [
    {
     "name": "stdout",
     "output_type": "stream",
     "text": [
      "10\n"
     ]
    }
   ],
   "source": [
    "print(number)"
   ]
  },
  {
   "cell_type": "code",
   "execution_count": 82,
   "id": "30c0833e",
   "metadata": {},
   "outputs": [],
   "source": [
    "number = 10\n",
    "def multiply(num1):\n",
    "    number = 5\n",
    "    return number * num1"
   ]
  },
  {
   "cell_type": "code",
   "execution_count": 83,
   "id": "48de6de9",
   "metadata": {},
   "outputs": [
    {
     "data": {
      "text/plain": [
       "50"
      ]
     },
     "execution_count": 83,
     "metadata": {},
     "output_type": "execute_result"
    }
   ],
   "source": [
    "multiply(10)"
   ]
  },
  {
   "cell_type": "code",
   "execution_count": 84,
   "id": "87dec2a0",
   "metadata": {},
   "outputs": [
    {
     "name": "stdout",
     "output_type": "stream",
     "text": [
      "10\n"
     ]
    }
   ],
   "source": [
    "print(number)"
   ]
  },
  {
   "cell_type": "code",
   "execution_count": 87,
   "id": "35b9581f",
   "metadata": {},
   "outputs": [
    {
     "name": "stdout",
     "output_type": "stream",
     "text": [
      "100\n",
      "10\n"
     ]
    }
   ],
   "source": [
    "number = 10\n",
    "def multiply(num1):\n",
    "    number = 5\n",
    "    return number * num1\n",
    "print(multiply(20))\n",
    "print(number)"
   ]
  },
  {
   "cell_type": "code",
   "execution_count": 88,
   "id": "60bfb2f2",
   "metadata": {},
   "outputs": [],
   "source": [
    "#legb -> l -> local, e -> enclosing, g -> global, b -> built-in"
   ]
  },
  {
   "cell_type": "code",
   "execution_count": 98,
   "id": "f0e90252",
   "metadata": {},
   "outputs": [
    {
     "name": "stdout",
     "output_type": "stream",
     "text": [
      "Lars\n"
     ]
    }
   ],
   "source": [
    "#global\n",
    "myName = \"Anil\"\n",
    "\n",
    "def myFunction():\n",
    "    #enclosing\n",
    "    myName = \"James\"\n",
    "    \n",
    "    def myFunction2():\n",
    "        #local\n",
    "        myName = \"Lars\"\n",
    "        print(myName)\n",
    "    myFunction2()\n",
    "myFunction()"
   ]
  },
  {
   "cell_type": "code",
   "execution_count": 99,
   "id": "769576e3",
   "metadata": {},
   "outputs": [],
   "source": [
    "y = 10\n",
    "\n",
    "def newFunction():\n",
    "    global y\n",
    "    y = 5\n",
    "    print(y)"
   ]
  },
  {
   "cell_type": "code",
   "execution_count": 100,
   "id": "5f108196",
   "metadata": {},
   "outputs": [
    {
     "name": "stdout",
     "output_type": "stream",
     "text": [
      "5\n"
     ]
    }
   ],
   "source": [
    "newFunction()"
   ]
  },
  {
   "cell_type": "code",
   "execution_count": 101,
   "id": "1d81f487",
   "metadata": {},
   "outputs": [
    {
     "name": "stdout",
     "output_type": "stream",
     "text": [
      "5\n"
     ]
    }
   ],
   "source": [
    "print(y)"
   ]
  },
  {
   "cell_type": "code",
   "execution_count": null,
   "id": "08d53910",
   "metadata": {},
   "outputs": [],
   "source": []
  }
 ],
 "metadata": {
  "kernelspec": {
   "display_name": "Python 3 (ipykernel)",
   "language": "python",
   "name": "python3"
  },
  "language_info": {
   "codemirror_mode": {
    "name": "ipython",
    "version": 3
   },
   "file_extension": ".py",
   "mimetype": "text/x-python",
   "name": "python",
   "nbconvert_exporter": "python",
   "pygments_lexer": "ipython3",
   "version": "3.11.7"
  }
 },
 "nbformat": 4,
 "nbformat_minor": 5
}
