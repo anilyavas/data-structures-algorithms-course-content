{
 "cells": [
  {
   "cell_type": "code",
   "execution_count": 1,
   "id": "0b8981e0",
   "metadata": {},
   "outputs": [],
   "source": []
  },
  {
   "cell_type": "code",
   "execution_count": 2,
   "id": "f0deec51",
   "metadata": {},
   "outputs": [],
   "source": [
    "def singleNumber():\n",
    "    myList = [1,1,2,2,3]\n",
    "    \n",
    "    result = 0\n",
    "    \n",
    "    for num in myList:\n",
    "        result = num ^ result\n",
    "    return result\n",
    "    "
   ]
  },
  {
   "cell_type": "code",
   "execution_count": 4,
   "id": "4f740be7",
   "metadata": {},
   "outputs": [
    {
     "data": {
      "text/plain": [
       "3"
      ]
     },
     "execution_count": 4,
     "metadata": {},
     "output_type": "execute_result"
    }
   ],
   "source": [
    "singleNumber()"
   ]
  },
  {
   "cell_type": "code",
   "execution_count": 5,
   "id": "e53c1f14",
   "metadata": {},
   "outputs": [],
   "source": [
    "# bit manipulation"
   ]
  },
  {
   "cell_type": "code",
   "execution_count": null,
   "id": "c721d04d",
   "metadata": {},
   "outputs": [],
   "source": []
  }
 ],
 "metadata": {
  "kernelspec": {
   "display_name": "Python 3 (ipykernel)",
   "language": "python",
   "name": "python3"
  },
  "language_info": {
   "codemirror_mode": {
    "name": "ipython",
    "version": 3
   },
   "file_extension": ".py",
   "mimetype": "text/x-python",
   "name": "python",
   "nbconvert_exporter": "python",
   "pygments_lexer": "ipython3",
   "version": "3.11.7"
  }
 },
 "nbformat": 4,
 "nbformat_minor": 5
}
