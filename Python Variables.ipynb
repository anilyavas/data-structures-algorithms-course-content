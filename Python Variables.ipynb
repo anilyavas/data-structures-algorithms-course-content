{
 "cells": [
  {
   "cell_type": "code",
   "execution_count": 1,
   "id": "891aa6c3-fe09-41e7-8f83-69fa823e7bc8",
   "metadata": {},
   "outputs": [
    {
     "name": "stdout",
     "output_type": "stream",
     "text": [
      "Hello\n"
     ]
    }
   ],
   "source": [
    "print(\"Hello\")"
   ]
  },
  {
   "cell_type": "code",
   "execution_count": 2,
   "id": "0cc52c86-0420-44e3-9477-008c17c46f77",
   "metadata": {},
   "outputs": [
    {
     "data": {
      "text/plain": [
       "9"
      ]
     },
     "execution_count": 2,
     "metadata": {},
     "output_type": "execute_result"
    }
   ],
   "source": [
    "5+4"
   ]
  },
  {
   "cell_type": "code",
   "execution_count": 3,
   "id": "f66d3255",
   "metadata": {},
   "outputs": [
    {
     "name": "stdout",
     "output_type": "stream",
     "text": [
      "hello 9\n"
     ]
    }
   ],
   "source": [
    "print(\"hello\", 5+4)"
   ]
  },
  {
   "cell_type": "code",
   "execution_count": 4,
   "id": "76935c7c",
   "metadata": {},
   "outputs": [
    {
     "name": "stdout",
     "output_type": "stream",
     "text": [
      "Hello\n",
      "World\n"
     ]
    }
   ],
   "source": [
    "print(\"Hello\")\n",
    "print(\"World\")"
   ]
  },
  {
   "cell_type": "code",
   "execution_count": 5,
   "id": "955ddf5f",
   "metadata": {},
   "outputs": [],
   "source": [
    "x = 5"
   ]
  },
  {
   "cell_type": "code",
   "execution_count": 6,
   "id": "50e6a391",
   "metadata": {},
   "outputs": [
    {
     "data": {
      "text/plain": [
       "int"
      ]
     },
     "execution_count": 6,
     "metadata": {},
     "output_type": "execute_result"
    }
   ],
   "source": [
    "type(x)"
   ]
  },
  {
   "cell_type": "code",
   "execution_count": 7,
   "id": "f3d30f87",
   "metadata": {},
   "outputs": [],
   "source": [
    "pi = 3.14"
   ]
  },
  {
   "cell_type": "code",
   "execution_count": 8,
   "id": "9ab90e05",
   "metadata": {},
   "outputs": [
    {
     "data": {
      "text/plain": [
       "float"
      ]
     },
     "execution_count": 8,
     "metadata": {},
     "output_type": "execute_result"
    }
   ],
   "source": [
    "type(pi)"
   ]
  },
  {
   "cell_type": "code",
   "execution_count": 9,
   "id": "ea308ee8",
   "metadata": {},
   "outputs": [],
   "source": [
    "x = \"Anıl\""
   ]
  },
  {
   "cell_type": "code",
   "execution_count": 10,
   "id": "b7f4fd5c",
   "metadata": {},
   "outputs": [
    {
     "data": {
      "text/plain": [
       "str"
      ]
     },
     "execution_count": 10,
     "metadata": {},
     "output_type": "execute_result"
    }
   ],
   "source": [
    "type(x)"
   ]
  },
  {
   "cell_type": "code",
   "execution_count": 11,
   "id": "4b5f6abd",
   "metadata": {},
   "outputs": [
    {
     "ename": "NameError",
     "evalue": "name 'false' is not defined",
     "output_type": "error",
     "traceback": [
      "\u001b[0;31m---------------------------------------------------------------------------\u001b[0m",
      "\u001b[0;31mNameError\u001b[0m                                 Traceback (most recent call last)",
      "Cell \u001b[0;32mIn[11], line 1\u001b[0m\n\u001b[0;32m----> 1\u001b[0m myBoolean \u001b[38;5;241m=\u001b[39m false\n",
      "\u001b[0;31mNameError\u001b[0m: name 'false' is not defined"
     ]
    }
   ],
   "source": [
    "myBoolean = false"
   ]
  },
  {
   "cell_type": "code",
   "execution_count": 12,
   "id": "b037629a",
   "metadata": {},
   "outputs": [],
   "source": [
    "myBoolean = False"
   ]
  },
  {
   "cell_type": "code",
   "execution_count": 13,
   "id": "5a267052",
   "metadata": {},
   "outputs": [
    {
     "data": {
      "text/plain": [
       "bool"
      ]
     },
     "execution_count": 13,
     "metadata": {},
     "output_type": "execute_result"
    }
   ],
   "source": [
    "type(myBoolean)"
   ]
  },
  {
   "cell_type": "code",
   "execution_count": 14,
   "id": "5be58d46",
   "metadata": {},
   "outputs": [],
   "source": [
    "myBoolean = True"
   ]
  },
  {
   "cell_type": "code",
   "execution_count": 1,
   "id": "ad9777ab",
   "metadata": {},
   "outputs": [],
   "source": [
    "myString = \"anil yavas\""
   ]
  },
  {
   "cell_type": "code",
   "execution_count": 2,
   "id": "f481b7ee",
   "metadata": {},
   "outputs": [
    {
     "data": {
      "text/plain": [
       "'a'"
      ]
     },
     "execution_count": 2,
     "metadata": {},
     "output_type": "execute_result"
    }
   ],
   "source": [
    "myString[0]"
   ]
  },
  {
   "cell_type": "code",
   "execution_count": 3,
   "id": "543b57b3",
   "metadata": {},
   "outputs": [
    {
     "data": {
      "text/plain": [
       "10"
      ]
     },
     "execution_count": 3,
     "metadata": {},
     "output_type": "execute_result"
    }
   ],
   "source": [
    "len(myString)"
   ]
  },
  {
   "cell_type": "code",
   "execution_count": 5,
   "id": "fb85da54",
   "metadata": {},
   "outputs": [
    {
     "data": {
      "text/plain": [
       "'a'"
      ]
     },
     "execution_count": 5,
     "metadata": {},
     "output_type": "execute_result"
    }
   ],
   "source": [
    "myString[-2]"
   ]
  },
  {
   "cell_type": "code",
   "execution_count": 6,
   "id": "d0f49c6c",
   "metadata": {},
   "outputs": [
    {
     "data": {
      "text/plain": [
       "'anil yavasanil yavas'"
      ]
     },
     "execution_count": 6,
     "metadata": {},
     "output_type": "execute_result"
    }
   ],
   "source": [
    "myString *2"
   ]
  },
  {
   "cell_type": "code",
   "execution_count": 8,
   "id": "d2eae33e",
   "metadata": {},
   "outputs": [
    {
     "data": {
      "text/plain": [
       "'anilyavas'"
      ]
     },
     "execution_count": 8,
     "metadata": {},
     "output_type": "execute_result"
    }
   ],
   "source": [
    "\"anil\" + \"yavas\""
   ]
  },
  {
   "cell_type": "code",
   "execution_count": 10,
   "id": "db161f4d",
   "metadata": {},
   "outputs": [
    {
     "data": {
      "text/plain": [
       "'Anil yavas'"
      ]
     },
     "execution_count": 10,
     "metadata": {},
     "output_type": "execute_result"
    }
   ],
   "source": [
    "myString.capitalize()"
   ]
  },
  {
   "cell_type": "code",
   "execution_count": 12,
   "id": "5dcb11d6",
   "metadata": {},
   "outputs": [
    {
     "data": {
      "text/plain": [
       "3"
      ]
     },
     "execution_count": 12,
     "metadata": {},
     "output_type": "execute_result"
    }
   ],
   "source": [
    "myString.count(\"a\")"
   ]
  },
  {
   "cell_type": "code",
   "execution_count": 14,
   "id": "db05eae0",
   "metadata": {},
   "outputs": [
    {
     "data": {
      "text/plain": [
       "'l yavas'"
      ]
     },
     "execution_count": 14,
     "metadata": {},
     "output_type": "execute_result"
    }
   ],
   "source": [
    "myString[3:] #starting index"
   ]
  },
  {
   "cell_type": "code",
   "execution_count": 16,
   "id": "d5b1c391",
   "metadata": {},
   "outputs": [
    {
     "data": {
      "text/plain": [
       "'ani'"
      ]
     },
     "execution_count": 16,
     "metadata": {},
     "output_type": "execute_result"
    }
   ],
   "source": [
    "myString[:3] #stopping index"
   ]
  },
  {
   "cell_type": "code",
   "execution_count": 17,
   "id": "e6924be6",
   "metadata": {},
   "outputs": [],
   "source": [
    "barcode = \"394939SNDJ32\""
   ]
  },
  {
   "cell_type": "code",
   "execution_count": 21,
   "id": "4dd78a87",
   "metadata": {},
   "outputs": [
    {
     "data": {
      "text/plain": [
       "'39SN'"
      ]
     },
     "execution_count": 21,
     "metadata": {},
     "output_type": "execute_result"
    }
   ],
   "source": [
    "barcode[4:8] #start - stop"
   ]
  },
  {
   "cell_type": "code",
   "execution_count": 22,
   "id": "a80e5fd5",
   "metadata": {},
   "outputs": [
    {
     "data": {
      "text/plain": [
       "'343SD3'"
      ]
     },
     "execution_count": 22,
     "metadata": {},
     "output_type": "execute_result"
    }
   ],
   "source": [
    "barcode[::2] #stepping size"
   ]
  },
  {
   "cell_type": "code",
   "execution_count": 23,
   "id": "c6175b93",
   "metadata": {},
   "outputs": [
    {
     "data": {
      "text/plain": [
       "'39SJ'"
      ]
     },
     "execution_count": 23,
     "metadata": {},
     "output_type": "execute_result"
    }
   ],
   "source": [
    "barcode[::3]"
   ]
  },
  {
   "cell_type": "code",
   "execution_count": 25,
   "id": "b9711d2b",
   "metadata": {},
   "outputs": [
    {
     "data": {
      "text/plain": [
       "'23JDNS939493'"
      ]
     },
     "execution_count": 25,
     "metadata": {},
     "output_type": "execute_result"
    }
   ],
   "source": [
    "barcode[::-1] #reverse order"
   ]
  },
  {
   "cell_type": "code",
   "execution_count": null,
   "id": "eb8d0627",
   "metadata": {},
   "outputs": [],
   "source": []
  }
 ],
 "metadata": {
  "kernelspec": {
   "display_name": "Python 3 (ipykernel)",
   "language": "python",
   "name": "python3"
  },
  "language_info": {
   "codemirror_mode": {
    "name": "ipython",
    "version": 3
   },
   "file_extension": ".py",
   "mimetype": "text/x-python",
   "name": "python",
   "nbconvert_exporter": "python",
   "pygments_lexer": "ipython3",
   "version": "3.11.7"
  }
 },
 "nbformat": 4,
 "nbformat_minor": 5
}
