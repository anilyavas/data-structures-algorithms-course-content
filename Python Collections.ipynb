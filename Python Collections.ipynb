{
 "cells": [
  {
   "cell_type": "code",
   "execution_count": 1,
   "id": "f19e930a",
   "metadata": {},
   "outputs": [],
   "source": [
    "#Lists"
   ]
  },
  {
   "cell_type": "code",
   "execution_count": 2,
   "id": "e2b25214",
   "metadata": {},
   "outputs": [],
   "source": [
    "myList = [1,2,3,4,5,6,7]"
   ]
  },
  {
   "cell_type": "code",
   "execution_count": 3,
   "id": "239a5b81",
   "metadata": {},
   "outputs": [
    {
     "data": {
      "text/plain": [
       "list"
      ]
     },
     "execution_count": 3,
     "metadata": {},
     "output_type": "execute_result"
    }
   ],
   "source": [
    "type(myList)"
   ]
  },
  {
   "cell_type": "code",
   "execution_count": 4,
   "id": "5b6e5be8",
   "metadata": {},
   "outputs": [],
   "source": [
    "myOtherList = list()"
   ]
  },
  {
   "cell_type": "code",
   "execution_count": 5,
   "id": "d77c9c26",
   "metadata": {},
   "outputs": [],
   "source": [
    "myOtherList.append(\"a\")"
   ]
  },
  {
   "cell_type": "code",
   "execution_count": 6,
   "id": "0af182fc",
   "metadata": {},
   "outputs": [],
   "source": [
    "myOtherList.append(\"b\")"
   ]
  },
  {
   "cell_type": "code",
   "execution_count": 7,
   "id": "f894299f",
   "metadata": {},
   "outputs": [
    {
     "data": {
      "text/plain": [
       "['a', 'b']"
      ]
     },
     "execution_count": 7,
     "metadata": {},
     "output_type": "execute_result"
    }
   ],
   "source": [
    "myOtherList"
   ]
  },
  {
   "cell_type": "code",
   "execution_count": 8,
   "id": "f534fe0d",
   "metadata": {},
   "outputs": [],
   "source": [
    "myMixedList = [1,2,3,4,5,5.5,\"anil\",True]"
   ]
  },
  {
   "cell_type": "code",
   "execution_count": 12,
   "id": "3eb37eaa",
   "metadata": {},
   "outputs": [
    {
     "data": {
      "text/plain": [
       "5.5"
      ]
     },
     "execution_count": 12,
     "metadata": {},
     "output_type": "execute_result"
    }
   ],
   "source": [
    "myMixedList[5]"
   ]
  },
  {
   "cell_type": "code",
   "execution_count": 13,
   "id": "961582f3",
   "metadata": {},
   "outputs": [],
   "source": [
    "x = myMixedList[0]"
   ]
  },
  {
   "cell_type": "code",
   "execution_count": 14,
   "id": "fad2a275",
   "metadata": {},
   "outputs": [
    {
     "data": {
      "text/plain": [
       "int"
      ]
     },
     "execution_count": 14,
     "metadata": {},
     "output_type": "execute_result"
    }
   ],
   "source": [
    "type(x)"
   ]
  },
  {
   "cell_type": "code",
   "execution_count": 18,
   "id": "1224082b",
   "metadata": {},
   "outputs": [],
   "source": [
    "y = myMixedList[5]"
   ]
  },
  {
   "cell_type": "code",
   "execution_count": 19,
   "id": "3bedd870",
   "metadata": {},
   "outputs": [
    {
     "data": {
      "text/plain": [
       "float"
      ]
     },
     "execution_count": 19,
     "metadata": {},
     "output_type": "execute_result"
    }
   ],
   "source": [
    "type(y)"
   ]
  },
  {
   "cell_type": "code",
   "execution_count": 20,
   "id": "60786dda",
   "metadata": {},
   "outputs": [
    {
     "data": {
      "text/plain": [
       "[1, 3, 5, 'anil']"
      ]
     },
     "execution_count": 20,
     "metadata": {},
     "output_type": "execute_result"
    }
   ],
   "source": [
    "myMixedList[::2]"
   ]
  },
  {
   "cell_type": "code",
   "execution_count": 21,
   "id": "e43d5b9d",
   "metadata": {},
   "outputs": [
    {
     "data": {
      "text/plain": [
       "[2, 3, 4, 5, 5.5, 'anil', True]"
      ]
     },
     "execution_count": 21,
     "metadata": {},
     "output_type": "execute_result"
    }
   ],
   "source": [
    "myMixedList[1:]"
   ]
  },
  {
   "cell_type": "code",
   "execution_count": 22,
   "id": "f1171f74",
   "metadata": {},
   "outputs": [
    {
     "data": {
      "text/plain": [
       "[1, 2, 3]"
      ]
     },
     "execution_count": 22,
     "metadata": {},
     "output_type": "execute_result"
    }
   ],
   "source": [
    "myMixedList[:3]"
   ]
  },
  {
   "cell_type": "code",
   "execution_count": 23,
   "id": "e5ebcaba",
   "metadata": {},
   "outputs": [],
   "source": [
    "myNestedList = [1,2,3,[\"a\",\"b\"],[10.20]]"
   ]
  },
  {
   "cell_type": "code",
   "execution_count": 27,
   "id": "bd4b2c0d",
   "metadata": {},
   "outputs": [
    {
     "data": {
      "text/plain": [
       "'b'"
      ]
     },
     "execution_count": 27,
     "metadata": {},
     "output_type": "execute_result"
    }
   ],
   "source": [
    "myNestedList[3][1]"
   ]
  },
  {
   "cell_type": "code",
   "execution_count": 29,
   "id": "d7f9de75",
   "metadata": {},
   "outputs": [],
   "source": [
    "#Dictionary (key-value-pairing)"
   ]
  },
  {
   "cell_type": "code",
   "execution_count": 30,
   "id": "55ce4a67",
   "metadata": {},
   "outputs": [],
   "source": [
    "myDictionary = {\"apple\": 100,\"banana\": 200,\"melon\": 300}"
   ]
  },
  {
   "cell_type": "code",
   "execution_count": 31,
   "id": "bab8e6cc",
   "metadata": {},
   "outputs": [
    {
     "data": {
      "text/plain": [
       "dict"
      ]
     },
     "execution_count": 31,
     "metadata": {},
     "output_type": "execute_result"
    }
   ],
   "source": [
    "type(myDictionary)"
   ]
  },
  {
   "cell_type": "code",
   "execution_count": 34,
   "id": "2adda4b7",
   "metadata": {},
   "outputs": [],
   "source": [
    "myDictionary[\"apple\"] = 200"
   ]
  },
  {
   "cell_type": "code",
   "execution_count": 35,
   "id": "1a13fa49",
   "metadata": {},
   "outputs": [
    {
     "data": {
      "text/plain": [
       "{'apple': 200, 'banana': 200, 'melon': 300}"
      ]
     },
     "execution_count": 35,
     "metadata": {},
     "output_type": "execute_result"
    }
   ],
   "source": [
    "myDictionary"
   ]
  },
  {
   "cell_type": "code",
   "execution_count": 42,
   "id": "da31e853",
   "metadata": {},
   "outputs": [
    {
     "data": {
      "text/plain": [
       "100"
      ]
     },
     "execution_count": 42,
     "metadata": {},
     "output_type": "execute_result"
    }
   ],
   "source": [
    "myDictionary.get(\"anil\",100)"
   ]
  },
  {
   "cell_type": "code",
   "execution_count": 44,
   "id": "a3f7fbab",
   "metadata": {},
   "outputs": [],
   "source": [
    "myDictionary[\"anil\"] = 400 #setter"
   ]
  },
  {
   "cell_type": "code",
   "execution_count": 46,
   "id": "025e4525",
   "metadata": {},
   "outputs": [
    {
     "data": {
      "text/plain": [
       "{'apple': 200, 'banana': 200, 'melon': 300, 'anil': 400}"
      ]
     },
     "execution_count": 46,
     "metadata": {},
     "output_type": "execute_result"
    }
   ],
   "source": [
    "myDictionary"
   ]
  },
  {
   "cell_type": "code",
   "execution_count": 47,
   "id": "8e4098e5",
   "metadata": {},
   "outputs": [],
   "source": [
    "myOtherDictionary = {\"a\":100,\"b\":[1,2,3,4,5],\"c\":4.4,\"d\":True}"
   ]
  },
  {
   "cell_type": "code",
   "execution_count": 51,
   "id": "f9b5e672",
   "metadata": {},
   "outputs": [
    {
     "data": {
      "text/plain": [
       "1"
      ]
     },
     "execution_count": 51,
     "metadata": {},
     "output_type": "execute_result"
    }
   ],
   "source": [
    "myOtherDictionary[\"b\"][0]"
   ]
  },
  {
   "cell_type": "code",
   "execution_count": 52,
   "id": "b12d3560",
   "metadata": {},
   "outputs": [],
   "source": [
    "#set"
   ]
  },
  {
   "cell_type": "code",
   "execution_count": 55,
   "id": "5ebaf7f7",
   "metadata": {},
   "outputs": [],
   "source": [
    "mySet = {1,2,3,4}"
   ]
  },
  {
   "cell_type": "code",
   "execution_count": 56,
   "id": "70781447",
   "metadata": {},
   "outputs": [
    {
     "data": {
      "text/plain": [
       "set"
      ]
     },
     "execution_count": 56,
     "metadata": {},
     "output_type": "execute_result"
    }
   ],
   "source": [
    "type(mySet)"
   ]
  },
  {
   "cell_type": "code",
   "execution_count": 57,
   "id": "f040c923",
   "metadata": {},
   "outputs": [],
   "source": [
    "myEmptySet = set()"
   ]
  },
  {
   "cell_type": "code",
   "execution_count": 58,
   "id": "de39a08d",
   "metadata": {},
   "outputs": [
    {
     "data": {
      "text/plain": [
       "set"
      ]
     },
     "execution_count": 58,
     "metadata": {},
     "output_type": "execute_result"
    }
   ],
   "source": [
    "type(myEmptySet)"
   ]
  },
  {
   "cell_type": "code",
   "execution_count": 61,
   "id": "be80985a",
   "metadata": {},
   "outputs": [],
   "source": [
    "mySet = {1,1,1,1,2,3}"
   ]
  },
  {
   "cell_type": "code",
   "execution_count": 62,
   "id": "fa03f458",
   "metadata": {},
   "outputs": [
    {
     "data": {
      "text/plain": [
       "{1, 2, 3}"
      ]
     },
     "execution_count": 62,
     "metadata": {},
     "output_type": "execute_result"
    }
   ],
   "source": [
    "mySet"
   ]
  },
  {
   "cell_type": "code",
   "execution_count": 63,
   "id": "dd919a65",
   "metadata": {},
   "outputs": [],
   "source": [
    "mySet.add(\"c\")"
   ]
  },
  {
   "cell_type": "code",
   "execution_count": 64,
   "id": "f7eaca37",
   "metadata": {},
   "outputs": [
    {
     "data": {
      "text/plain": [
       "{1, 2, 3, 'c'}"
      ]
     },
     "execution_count": 64,
     "metadata": {},
     "output_type": "execute_result"
    }
   ],
   "source": [
    "mySet"
   ]
  },
  {
   "cell_type": "code",
   "execution_count": 65,
   "id": "3acd3bf7",
   "metadata": {},
   "outputs": [],
   "source": [
    "#tuple"
   ]
  },
  {
   "cell_type": "code",
   "execution_count": 66,
   "id": "764a6402",
   "metadata": {},
   "outputs": [],
   "source": [
    "myList = [1,2,3,4,5,1,2,3]"
   ]
  },
  {
   "cell_type": "code",
   "execution_count": 67,
   "id": "c9d46d03",
   "metadata": {},
   "outputs": [],
   "source": [
    "myTuple = (1,2,3,4,5,1,2,3)"
   ]
  },
  {
   "cell_type": "code",
   "execution_count": 68,
   "id": "267bc981",
   "metadata": {},
   "outputs": [
    {
     "data": {
      "text/plain": [
       "(1, 2, 3, 4, 5, 1, 2, 3)"
      ]
     },
     "execution_count": 68,
     "metadata": {},
     "output_type": "execute_result"
    }
   ],
   "source": [
    "myTuple"
   ]
  },
  {
   "cell_type": "code",
   "execution_count": 69,
   "id": "78c2c00a",
   "metadata": {},
   "outputs": [
    {
     "data": {
      "text/plain": [
       "3"
      ]
     },
     "execution_count": 69,
     "metadata": {},
     "output_type": "execute_result"
    }
   ],
   "source": [
    "myTuple[2]"
   ]
  },
  {
   "cell_type": "code",
   "execution_count": 70,
   "id": "2e2df364",
   "metadata": {},
   "outputs": [
    {
     "ename": "TypeError",
     "evalue": "'tuple' object does not support item assignment",
     "output_type": "error",
     "traceback": [
      "\u001b[0;31m---------------------------------------------------------------------------\u001b[0m",
      "\u001b[0;31mTypeError\u001b[0m                                 Traceback (most recent call last)",
      "Cell \u001b[0;32mIn[70], line 1\u001b[0m\n\u001b[0;32m----> 1\u001b[0m myTuple[\u001b[38;5;241m0\u001b[39m] \u001b[38;5;241m=\u001b[39m \u001b[38;5;241m100\u001b[39m\n",
      "\u001b[0;31mTypeError\u001b[0m: 'tuple' object does not support item assignment"
     ]
    }
   ],
   "source": [
    "myTuple[0] = 100"
   ]
  },
  {
   "cell_type": "code",
   "execution_count": 71,
   "id": "806e7ac1",
   "metadata": {},
   "outputs": [
    {
     "data": {
      "text/plain": [
       "2"
      ]
     },
     "execution_count": 71,
     "metadata": {},
     "output_type": "execute_result"
    }
   ],
   "source": [
    "myTuple.count(2)"
   ]
  },
  {
   "cell_type": "code",
   "execution_count": 72,
   "id": "072ed6b9",
   "metadata": {},
   "outputs": [],
   "source": [
    "#tuple unpacking"
   ]
  },
  {
   "cell_type": "code",
   "execution_count": 90,
   "id": "74876ca3",
   "metadata": {},
   "outputs": [],
   "source": [
    "(x,y) = (5,4)"
   ]
  },
  {
   "cell_type": "code",
   "execution_count": 91,
   "id": "18354a03",
   "metadata": {},
   "outputs": [
    {
     "data": {
      "text/plain": [
       "5"
      ]
     },
     "execution_count": 91,
     "metadata": {},
     "output_type": "execute_result"
    }
   ],
   "source": [
    "x"
   ]
  },
  {
   "cell_type": "code",
   "execution_count": 92,
   "id": "7340300f",
   "metadata": {},
   "outputs": [
    {
     "data": {
      "text/plain": [
       "4"
      ]
     },
     "execution_count": 92,
     "metadata": {},
     "output_type": "execute_result"
    }
   ],
   "source": [
    "y"
   ]
  },
  {
   "cell_type": "code",
   "execution_count": 109,
   "id": "29090855",
   "metadata": {},
   "outputs": [],
   "source": [
    "myTemp = x"
   ]
  },
  {
   "cell_type": "code",
   "execution_count": 110,
   "id": "76946e1e",
   "metadata": {},
   "outputs": [],
   "source": [
    "x = y"
   ]
  },
  {
   "cell_type": "code",
   "execution_count": 111,
   "id": "37b04583",
   "metadata": {},
   "outputs": [],
   "source": [
    "y = myTemp"
   ]
  },
  {
   "cell_type": "code",
   "execution_count": 112,
   "id": "f0c831ee",
   "metadata": {},
   "outputs": [
    {
     "data": {
      "text/plain": [
       "5"
      ]
     },
     "execution_count": 112,
     "metadata": {},
     "output_type": "execute_result"
    }
   ],
   "source": [
    "x"
   ]
  },
  {
   "cell_type": "code",
   "execution_count": 113,
   "id": "7fc9541c",
   "metadata": {},
   "outputs": [
    {
     "data": {
      "text/plain": [
       "5"
      ]
     },
     "execution_count": 113,
     "metadata": {},
     "output_type": "execute_result"
    }
   ],
   "source": [
    "y"
   ]
  },
  {
   "cell_type": "code",
   "execution_count": 114,
   "id": "4ff179e8",
   "metadata": {},
   "outputs": [],
   "source": [
    "(m,n) = (10,20)"
   ]
  },
  {
   "cell_type": "code",
   "execution_count": 115,
   "id": "03650e8d",
   "metadata": {},
   "outputs": [],
   "source": [
    "(m,n) = (n,m)"
   ]
  },
  {
   "cell_type": "code",
   "execution_count": 116,
   "id": "a71d7487",
   "metadata": {},
   "outputs": [
    {
     "data": {
      "text/plain": [
       "20"
      ]
     },
     "execution_count": 116,
     "metadata": {},
     "output_type": "execute_result"
    }
   ],
   "source": [
    "m"
   ]
  },
  {
   "cell_type": "code",
   "execution_count": 117,
   "id": "fa586db3",
   "metadata": {},
   "outputs": [
    {
     "data": {
      "text/plain": [
       "10"
      ]
     },
     "execution_count": 117,
     "metadata": {},
     "output_type": "execute_result"
    }
   ],
   "source": [
    "n"
   ]
  },
  {
   "cell_type": "code",
   "execution_count": 118,
   "id": "93a376d7",
   "metadata": {},
   "outputs": [],
   "source": [
    "myInt = 10"
   ]
  },
  {
   "cell_type": "code",
   "execution_count": 119,
   "id": "7332d99e",
   "metadata": {},
   "outputs": [
    {
     "data": {
      "text/plain": [
       "'10'"
      ]
     },
     "execution_count": 119,
     "metadata": {},
     "output_type": "execute_result"
    }
   ],
   "source": [
    "str(myInt)"
   ]
  },
  {
   "cell_type": "code",
   "execution_count": 120,
   "id": "eb767b42",
   "metadata": {},
   "outputs": [
    {
     "data": {
      "text/plain": [
       "40"
      ]
     },
     "execution_count": 120,
     "metadata": {},
     "output_type": "execute_result"
    }
   ],
   "source": [
    "int(\"40\")"
   ]
  },
  {
   "cell_type": "code",
   "execution_count": 121,
   "id": "5919459b",
   "metadata": {},
   "outputs": [
    {
     "ename": "ValueError",
     "evalue": "invalid literal for int() with base 10: 'anil'",
     "output_type": "error",
     "traceback": [
      "\u001b[0;31m---------------------------------------------------------------------------\u001b[0m",
      "\u001b[0;31mValueError\u001b[0m                                Traceback (most recent call last)",
      "Cell \u001b[0;32mIn[121], line 1\u001b[0m\n\u001b[0;32m----> 1\u001b[0m \u001b[38;5;28mint\u001b[39m(\u001b[38;5;124m\"\u001b[39m\u001b[38;5;124manil\u001b[39m\u001b[38;5;124m\"\u001b[39m)\n",
      "\u001b[0;31mValueError\u001b[0m: invalid literal for int() with base 10: 'anil'"
     ]
    }
   ],
   "source": [
    "int(\"anil\")"
   ]
  },
  {
   "cell_type": "code",
   "execution_count": 122,
   "id": "50154f7d",
   "metadata": {},
   "outputs": [
    {
     "name": "stdout",
     "output_type": "stream",
     "text": [
      "enter age: 35\n"
     ]
    }
   ],
   "source": [
    "userAge = input(\"enter age: \")"
   ]
  },
  {
   "cell_type": "code",
   "execution_count": 126,
   "id": "a6af2bee",
   "metadata": {},
   "outputs": [
    {
     "data": {
      "text/plain": [
       "70"
      ]
     },
     "execution_count": 126,
     "metadata": {},
     "output_type": "execute_result"
    }
   ],
   "source": [
    "int(userAge) * 2"
   ]
  },
  {
   "cell_type": "code",
   "execution_count": 128,
   "id": "f97c239d",
   "metadata": {},
   "outputs": [
    {
     "data": {
      "text/plain": [
       "4.8"
      ]
     },
     "execution_count": 128,
     "metadata": {},
     "output_type": "execute_result"
    }
   ],
   "source": [
    "2.4 * 2"
   ]
  },
  {
   "cell_type": "code",
   "execution_count": 129,
   "id": "f6109efa",
   "metadata": {},
   "outputs": [],
   "source": [
    "myFloat = 4.8"
   ]
  },
  {
   "cell_type": "code",
   "execution_count": 130,
   "id": "b4322461",
   "metadata": {},
   "outputs": [
    {
     "data": {
      "text/plain": [
       "4"
      ]
     },
     "execution_count": 130,
     "metadata": {},
     "output_type": "execute_result"
    }
   ],
   "source": [
    "int(myFloat)"
   ]
  },
  {
   "cell_type": "code",
   "execution_count": 131,
   "id": "001898ba",
   "metadata": {},
   "outputs": [],
   "source": [
    "myList = [1,2,3,4,5,1,2,3]"
   ]
  },
  {
   "cell_type": "code",
   "execution_count": 133,
   "id": "5838c8de",
   "metadata": {},
   "outputs": [],
   "source": [
    "mySet = set(myList)"
   ]
  },
  {
   "cell_type": "code",
   "execution_count": 134,
   "id": "6176b1a9",
   "metadata": {},
   "outputs": [
    {
     "data": {
      "text/plain": [
       "{1, 2, 3, 4, 5}"
      ]
     },
     "execution_count": 134,
     "metadata": {},
     "output_type": "execute_result"
    }
   ],
   "source": [
    "mySet"
   ]
  },
  {
   "cell_type": "code",
   "execution_count": 135,
   "id": "3a3933cc",
   "metadata": {},
   "outputs": [],
   "source": [
    "myDictionary = {\"apple\":100,\"banana\": 200}"
   ]
  },
  {
   "cell_type": "code",
   "execution_count": 139,
   "id": "503b82c1",
   "metadata": {},
   "outputs": [
    {
     "data": {
      "text/plain": [
       "dict_items([('apple', 100), ('banana', 200)])"
      ]
     },
     "execution_count": 139,
     "metadata": {},
     "output_type": "execute_result"
    }
   ],
   "source": [
    "myDictionary.items()"
   ]
  },
  {
   "cell_type": "code",
   "execution_count": 141,
   "id": "a5f42757",
   "metadata": {},
   "outputs": [
    {
     "data": {
      "text/plain": [
       "{1, 2, 3, 4, 5}"
      ]
     },
     "execution_count": 141,
     "metadata": {},
     "output_type": "execute_result"
    }
   ],
   "source": [
    "mySet"
   ]
  },
  {
   "cell_type": "code",
   "execution_count": 142,
   "id": "873b27bb",
   "metadata": {},
   "outputs": [
    {
     "data": {
      "text/plain": [
       "[1, 2, 3, 4, 5]"
      ]
     },
     "execution_count": 142,
     "metadata": {},
     "output_type": "execute_result"
    }
   ],
   "source": [
    "list(mySet)"
   ]
  },
  {
   "cell_type": "code",
   "execution_count": 143,
   "id": "2173ef97",
   "metadata": {},
   "outputs": [],
   "source": [
    "#error handling"
   ]
  },
  {
   "cell_type": "code",
   "execution_count": 145,
   "id": "d106a7c3",
   "metadata": {},
   "outputs": [
    {
     "name": "stdout",
     "output_type": "stream",
     "text": [
      "error\n"
     ]
    }
   ],
   "source": [
    "try:\n",
    "    int(\"anil\")\n",
    "except:\n",
    "    print(\"error\")"
   ]
  },
  {
   "cell_type": "code",
   "execution_count": 148,
   "id": "d7b7526e",
   "metadata": {},
   "outputs": [
    {
     "name": "stdout",
     "output_type": "stream",
     "text": [
      "enter age: anil\n"
     ]
    }
   ],
   "source": [
    "userAge = input(\"enter age: \")"
   ]
  },
  {
   "cell_type": "code",
   "execution_count": 149,
   "id": "1108f6b6",
   "metadata": {},
   "outputs": [
    {
     "name": "stdout",
     "output_type": "stream",
     "text": [
      "enter age!\n"
     ]
    }
   ],
   "source": [
    "try:\n",
    "    print(int(userAge) * 2)\n",
    "except:\n",
    "    print(\"enter age!\")"
   ]
  },
  {
   "cell_type": "code",
   "execution_count": null,
   "id": "7998685d",
   "metadata": {},
   "outputs": [],
   "source": []
  }
 ],
 "metadata": {
  "kernelspec": {
   "display_name": "Python 3 (ipykernel)",
   "language": "python",
   "name": "python3"
  },
  "language_info": {
   "codemirror_mode": {
    "name": "ipython",
    "version": 3
   },
   "file_extension": ".py",
   "mimetype": "text/x-python",
   "name": "python",
   "nbconvert_exporter": "python",
   "pygments_lexer": "ipython3",
   "version": "3.11.7"
  }
 },
 "nbformat": 4,
 "nbformat_minor": 5
}
