{
 "cells": [
  {
   "cell_type": "code",
   "execution_count": 2,
   "id": "b9b5dc9d",
   "metadata": {},
   "outputs": [
    {
     "data": {
      "text/plain": [
       "'\\n\\nQueue()\\n\\nenqueue(element)\\ndequeue(element)\\nsize()\\nisEmpty()\\n\\n'"
      ]
     },
     "execution_count": 2,
     "metadata": {},
     "output_type": "execute_result"
    }
   ],
   "source": [
    "'''\n",
    "\n",
    "Queue()\n",
    "\n",
    "enqueue(element)\n",
    "dequeue(element)\n",
    "size()\n",
    "isEmpty()\n",
    "\n",
    "'''"
   ]
  },
  {
   "cell_type": "code",
   "execution_count": 10,
   "id": "16c41a31",
   "metadata": {},
   "outputs": [],
   "source": [
    "class Queue():\n",
    "    \n",
    "    def __init__(self):\n",
    "        self.elements = []\n",
    "    \n",
    "    def isEmpty(self):\n",
    "        return self.elements == []\n",
    "    \n",
    "    def enqueue(self,element):\n",
    "        self.elements.insert(0,element)\n",
    "        \n",
    "    def dequeue(self):\n",
    "        return self.elements.pop()\n",
    "        \n",
    "    def size(self):\n",
    "        return len(self.elements)\n",
    "    "
   ]
  },
  {
   "cell_type": "code",
   "execution_count": 11,
   "id": "640f42b2",
   "metadata": {},
   "outputs": [],
   "source": [
    "myQueue = Queue()"
   ]
  },
  {
   "cell_type": "code",
   "execution_count": 12,
   "id": "d0efc304",
   "metadata": {},
   "outputs": [
    {
     "data": {
      "text/plain": [
       "True"
      ]
     },
     "execution_count": 12,
     "metadata": {},
     "output_type": "execute_result"
    }
   ],
   "source": [
    "myQueue.isEmpty()"
   ]
  },
  {
   "cell_type": "code",
   "execution_count": 13,
   "id": "34dcf144",
   "metadata": {},
   "outputs": [],
   "source": [
    "myQueue.enqueue(10)\n",
    "myQueue.enqueue(20)\n",
    "myQueue.enqueue(30)"
   ]
  },
  {
   "cell_type": "code",
   "execution_count": 14,
   "id": "8a23e040",
   "metadata": {},
   "outputs": [
    {
     "data": {
      "text/plain": [
       "10"
      ]
     },
     "execution_count": 14,
     "metadata": {},
     "output_type": "execute_result"
    }
   ],
   "source": [
    "myQueue.dequeue()"
   ]
  },
  {
   "cell_type": "code",
   "execution_count": 15,
   "id": "9c87f7c6",
   "metadata": {},
   "outputs": [
    {
     "data": {
      "text/plain": [
       "2"
      ]
     },
     "execution_count": 15,
     "metadata": {},
     "output_type": "execute_result"
    }
   ],
   "source": [
    "myQueue.size()"
   ]
  },
  {
   "cell_type": "code",
   "execution_count": 16,
   "id": "5ed3a482",
   "metadata": {},
   "outputs": [
    {
     "data": {
      "text/plain": [
       "20"
      ]
     },
     "execution_count": 16,
     "metadata": {},
     "output_type": "execute_result"
    }
   ],
   "source": [
    "myQueue.dequeue()"
   ]
  },
  {
   "cell_type": "code",
   "execution_count": 17,
   "id": "8eef5250",
   "metadata": {},
   "outputs": [
    {
     "data": {
      "text/plain": [
       "30"
      ]
     },
     "execution_count": 17,
     "metadata": {},
     "output_type": "execute_result"
    }
   ],
   "source": [
    "myQueue.dequeue()"
   ]
  },
  {
   "cell_type": "code",
   "execution_count": 18,
   "id": "dc179eb5",
   "metadata": {},
   "outputs": [
    {
     "data": {
      "text/plain": [
       "True"
      ]
     },
     "execution_count": 18,
     "metadata": {},
     "output_type": "execute_result"
    }
   ],
   "source": [
    "myQueue.isEmpty()"
   ]
  },
  {
   "cell_type": "code",
   "execution_count": null,
   "id": "fe6da0fc",
   "metadata": {},
   "outputs": [],
   "source": []
  }
 ],
 "metadata": {
  "kernelspec": {
   "display_name": "Python 3 (ipykernel)",
   "language": "python",
   "name": "python3"
  },
  "language_info": {
   "codemirror_mode": {
    "name": "ipython",
    "version": 3
   },
   "file_extension": ".py",
   "mimetype": "text/x-python",
   "name": "python",
   "nbconvert_exporter": "python",
   "pygments_lexer": "ipython3",
   "version": "3.11.7"
  }
 },
 "nbformat": 4,
 "nbformat_minor": 5
}
