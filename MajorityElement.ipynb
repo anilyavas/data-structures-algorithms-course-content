{
 "cells": [
  {
   "cell_type": "code",
   "execution_count": 10,
   "id": "c473e63d",
   "metadata": {},
   "outputs": [],
   "source": [
    "myList = [1,1,1,3,3,1,3,3,3]"
   ]
  },
  {
   "cell_type": "code",
   "execution_count": 11,
   "id": "c8702fe6",
   "metadata": {},
   "outputs": [],
   "source": [
    "def findMajority():\n",
    "    numbers = {}\n",
    "    result = 0\n",
    "    maxNumber = 0\n",
    "    \n",
    "    for num in myList:\n",
    "        numbers[num] = 1 + numbers.get(num,0)\n",
    "        if numbers[num] > maxNumber:\n",
    "            result = num\n",
    "        maxNumber = max(maxNumber,numbers[num])\n",
    "    return result"
   ]
  },
  {
   "cell_type": "code",
   "execution_count": 12,
   "id": "177f4f81",
   "metadata": {},
   "outputs": [
    {
     "data": {
      "text/plain": [
       "3"
      ]
     },
     "execution_count": 12,
     "metadata": {},
     "output_type": "execute_result"
    }
   ],
   "source": [
    "findMajority()"
   ]
  },
  {
   "cell_type": "code",
   "execution_count": 13,
   "id": "d4cc7b92",
   "metadata": {},
   "outputs": [],
   "source": [
    "# boyer moore"
   ]
  },
  {
   "cell_type": "code",
   "execution_count": 14,
   "id": "8406909f",
   "metadata": {},
   "outputs": [],
   "source": [
    "def majorityNum():\n",
    "    result = 0\n",
    "    count = 0\n",
    "    for num in myList:\n",
    "        if count == 0:\n",
    "            result = num\n",
    "        count += 1 if num == result else -1\n",
    "    return result       "
   ]
  },
  {
   "cell_type": "code",
   "execution_count": 15,
   "id": "0710d8fa",
   "metadata": {},
   "outputs": [
    {
     "data": {
      "text/plain": [
       "3"
      ]
     },
     "execution_count": 15,
     "metadata": {},
     "output_type": "execute_result"
    }
   ],
   "source": [
    "majorityNum()"
   ]
  },
  {
   "cell_type": "code",
   "execution_count": null,
   "id": "a0a707ca",
   "metadata": {},
   "outputs": [],
   "source": []
  }
 ],
 "metadata": {
  "kernelspec": {
   "display_name": "Python 3 (ipykernel)",
   "language": "python",
   "name": "python3"
  },
  "language_info": {
   "codemirror_mode": {
    "name": "ipython",
    "version": 3
   },
   "file_extension": ".py",
   "mimetype": "text/x-python",
   "name": "python",
   "nbconvert_exporter": "python",
   "pygments_lexer": "ipython3",
   "version": "3.11.7"
  }
 },
 "nbformat": 4,
 "nbformat_minor": 5
}
